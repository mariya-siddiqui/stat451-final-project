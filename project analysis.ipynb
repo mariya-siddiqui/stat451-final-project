{
 "cells": [
  {
   "cell_type": "code",
   "execution_count": 1,
   "id": "abf7eb73",
   "metadata": {},
   "outputs": [],
   "source": [
    "# Imports\n",
    "import pandas as pd\n",
    "import numpy as np\n",
    "import matplotlib.pyplot as plt\n",
    "import random\n",
    "from sklearn.model_selection import train_test_split\n",
    "\n",
    "# Suppressing deprecation warnings temporarily as they take up a lot of room in output\n",
    "import warnings\n",
    "warnings.filterwarnings('ignore')"
   ]
  },
  {
   "cell_type": "code",
   "execution_count": 2,
   "id": "1fc4d884",
   "metadata": {},
   "outputs": [
    {
     "data": {
      "text/html": [
       "<div>\n",
       "<style scoped>\n",
       "    .dataframe tbody tr th:only-of-type {\n",
       "        vertical-align: middle;\n",
       "    }\n",
       "\n",
       "    .dataframe tbody tr th {\n",
       "        vertical-align: top;\n",
       "    }\n",
       "\n",
       "    .dataframe thead th {\n",
       "        text-align: right;\n",
       "    }\n",
       "</style>\n",
       "<table border=\"1\" class=\"dataframe\">\n",
       "  <thead>\n",
       "    <tr style=\"text-align: right;\">\n",
       "      <th></th>\n",
       "      <th>year</th>\n",
       "      <th>month</th>\n",
       "      <th>day</th>\n",
       "      <th>day_of_week</th>\n",
       "      <th>date</th>\n",
       "      <th>carrier</th>\n",
       "      <th>flight_number</th>\n",
       "      <th>origin</th>\n",
       "      <th>origin_city</th>\n",
       "      <th>origin_state</th>\n",
       "      <th>...</th>\n",
       "      <th>planned_departure</th>\n",
       "      <th>delay</th>\n",
       "      <th>delay_pos</th>\n",
       "      <th>delay15</th>\n",
       "      <th>cancelled</th>\n",
       "      <th>carrier_delay</th>\n",
       "      <th>weather_delay</th>\n",
       "      <th>nas_delay</th>\n",
       "      <th>security_delay</th>\n",
       "      <th>late_aircraft_delay</th>\n",
       "    </tr>\n",
       "  </thead>\n",
       "  <tbody>\n",
       "    <tr>\n",
       "      <th>0</th>\n",
       "      <td>2023</td>\n",
       "      <td>7</td>\n",
       "      <td>1</td>\n",
       "      <td>6</td>\n",
       "      <td>7/1/2023 12:00:00 AM</td>\n",
       "      <td>9E</td>\n",
       "      <td>4902</td>\n",
       "      <td>SYR</td>\n",
       "      <td>Syracuse, NY</td>\n",
       "      <td>New York</td>\n",
       "      <td>...</td>\n",
       "      <td>610</td>\n",
       "      <td>-3.0</td>\n",
       "      <td>0.0</td>\n",
       "      <td>0.0</td>\n",
       "      <td>0.0</td>\n",
       "      <td>NaN</td>\n",
       "      <td>NaN</td>\n",
       "      <td>NaN</td>\n",
       "      <td>NaN</td>\n",
       "      <td>NaN</td>\n",
       "    </tr>\n",
       "    <tr>\n",
       "      <th>1</th>\n",
       "      <td>2023</td>\n",
       "      <td>7</td>\n",
       "      <td>1</td>\n",
       "      <td>6</td>\n",
       "      <td>7/1/2023 12:00:00 AM</td>\n",
       "      <td>9E</td>\n",
       "      <td>4903</td>\n",
       "      <td>BHM</td>\n",
       "      <td>Birmingham, AL</td>\n",
       "      <td>Alabama</td>\n",
       "      <td>...</td>\n",
       "      <td>1125</td>\n",
       "      <td>9.0</td>\n",
       "      <td>9.0</td>\n",
       "      <td>0.0</td>\n",
       "      <td>0.0</td>\n",
       "      <td>NaN</td>\n",
       "      <td>NaN</td>\n",
       "      <td>NaN</td>\n",
       "      <td>NaN</td>\n",
       "      <td>NaN</td>\n",
       "    </tr>\n",
       "    <tr>\n",
       "      <th>2</th>\n",
       "      <td>2023</td>\n",
       "      <td>7</td>\n",
       "      <td>1</td>\n",
       "      <td>6</td>\n",
       "      <td>7/1/2023 12:00:00 AM</td>\n",
       "      <td>9E</td>\n",
       "      <td>4905</td>\n",
       "      <td>LGA</td>\n",
       "      <td>New York, NY</td>\n",
       "      <td>New York</td>\n",
       "      <td>...</td>\n",
       "      <td>1745</td>\n",
       "      <td>-6.0</td>\n",
       "      <td>0.0</td>\n",
       "      <td>0.0</td>\n",
       "      <td>0.0</td>\n",
       "      <td>NaN</td>\n",
       "      <td>NaN</td>\n",
       "      <td>NaN</td>\n",
       "      <td>NaN</td>\n",
       "      <td>NaN</td>\n",
       "    </tr>\n",
       "    <tr>\n",
       "      <th>3</th>\n",
       "      <td>2023</td>\n",
       "      <td>7</td>\n",
       "      <td>1</td>\n",
       "      <td>6</td>\n",
       "      <td>7/1/2023 12:00:00 AM</td>\n",
       "      <td>9E</td>\n",
       "      <td>4906</td>\n",
       "      <td>ATL</td>\n",
       "      <td>Atlanta, GA</td>\n",
       "      <td>Georgia</td>\n",
       "      <td>...</td>\n",
       "      <td>1010</td>\n",
       "      <td>-1.0</td>\n",
       "      <td>0.0</td>\n",
       "      <td>0.0</td>\n",
       "      <td>0.0</td>\n",
       "      <td>NaN</td>\n",
       "      <td>NaN</td>\n",
       "      <td>NaN</td>\n",
       "      <td>NaN</td>\n",
       "      <td>NaN</td>\n",
       "    </tr>\n",
       "    <tr>\n",
       "      <th>4</th>\n",
       "      <td>2023</td>\n",
       "      <td>7</td>\n",
       "      <td>1</td>\n",
       "      <td>6</td>\n",
       "      <td>7/1/2023 12:00:00 AM</td>\n",
       "      <td>9E</td>\n",
       "      <td>4906</td>\n",
       "      <td>MLU</td>\n",
       "      <td>Monroe, LA</td>\n",
       "      <td>Louisiana</td>\n",
       "      <td>...</td>\n",
       "      <td>1133</td>\n",
       "      <td>-3.0</td>\n",
       "      <td>0.0</td>\n",
       "      <td>0.0</td>\n",
       "      <td>0.0</td>\n",
       "      <td>NaN</td>\n",
       "      <td>NaN</td>\n",
       "      <td>NaN</td>\n",
       "      <td>NaN</td>\n",
       "      <td>NaN</td>\n",
       "    </tr>\n",
       "  </tbody>\n",
       "</table>\n",
       "<p>5 rows × 23 columns</p>\n",
       "</div>"
      ],
      "text/plain": [
       "   year  month  day  day_of_week                  date carrier  flight_number  \\\n",
       "0  2023      7    1            6  7/1/2023 12:00:00 AM      9E           4902   \n",
       "1  2023      7    1            6  7/1/2023 12:00:00 AM      9E           4903   \n",
       "2  2023      7    1            6  7/1/2023 12:00:00 AM      9E           4905   \n",
       "3  2023      7    1            6  7/1/2023 12:00:00 AM      9E           4906   \n",
       "4  2023      7    1            6  7/1/2023 12:00:00 AM      9E           4906   \n",
       "\n",
       "  origin     origin_city origin_state  ... planned_departure delay delay_pos  \\\n",
       "0    SYR    Syracuse, NY     New York  ...               610  -3.0       0.0   \n",
       "1    BHM  Birmingham, AL      Alabama  ...              1125   9.0       9.0   \n",
       "2    LGA    New York, NY     New York  ...              1745  -6.0       0.0   \n",
       "3    ATL     Atlanta, GA      Georgia  ...              1010  -1.0       0.0   \n",
       "4    MLU      Monroe, LA    Louisiana  ...              1133  -3.0       0.0   \n",
       "\n",
       "   delay15  cancelled  carrier_delay  weather_delay  nas_delay  \\\n",
       "0      0.0        0.0            NaN            NaN        NaN   \n",
       "1      0.0        0.0            NaN            NaN        NaN   \n",
       "2      0.0        0.0            NaN            NaN        NaN   \n",
       "3      0.0        0.0            NaN            NaN        NaN   \n",
       "4      0.0        0.0            NaN            NaN        NaN   \n",
       "\n",
       "   security_delay  late_aircraft_delay  \n",
       "0             NaN                  NaN  \n",
       "1             NaN                  NaN  \n",
       "2             NaN                  NaN  \n",
       "3             NaN                  NaN  \n",
       "4             NaN                  NaN  \n",
       "\n",
       "[5 rows x 23 columns]"
      ]
     },
     "execution_count": 2,
     "metadata": {},
     "output_type": "execute_result"
    }
   ],
   "source": [
    "names = ['year', 'month', 'day', 'day_of_week', 'date', 'carrier', 'flight_number', 'origin', \n",
    "         'origin_city', 'origin_state', 'dest', 'dest_state', 'dest_city', 'planned_departure', 'delay', 'delay_pos', \n",
    "         'delay15', 'cancelled', 'carrier_delay', 'weather_delay', 'nas_delay', 'security_delay', 'late_aircraft_delay']\n",
    "df = pd.read_csv(\"./datasets/jul.csv\", header = 0, names = names, index_col = False)\n",
    "df.head()"
   ]
  },
  {
   "cell_type": "code",
   "execution_count": 17,
   "id": "423f7050",
   "metadata": {},
   "outputs": [
    {
     "data": {
      "text/plain": [
       "(601866, 23)"
      ]
     },
     "execution_count": 17,
     "metadata": {},
     "output_type": "execute_result"
    }
   ],
   "source": [
    "df.shape"
   ]
  },
  {
   "cell_type": "code",
   "execution_count": 3,
   "id": "3e3f295f",
   "metadata": {},
   "outputs": [],
   "source": [
    "delays = df[df.cancelled == 0][['day_of_week', 'carrier', 'origin', 'origin_state', \n",
    "                                'planned_departure', 'delay', 'delay_pos', 'delay15']]"
   ]
  },
  {
   "cell_type": "code",
   "execution_count": 4,
   "id": "ba77b112",
   "metadata": {},
   "outputs": [
    {
     "data": {
      "text/plain": [
       "4821.500975407547"
      ]
     },
     "execution_count": 4,
     "metadata": {},
     "output_type": "execute_result"
    }
   ],
   "source": [
    "np.var(delays['delay_pos'])"
   ]
  },
  {
   "cell_type": "markdown",
   "id": "46dd88fa",
   "metadata": {},
   "source": [
    "# Classification"
   ]
  },
  {
   "cell_type": "code",
   "execution_count": 5,
   "id": "5d7e0fd4",
   "metadata": {},
   "outputs": [],
   "source": [
    "# Select factors to use for classification as well as use one hot encoding for carrier\n",
    "factors = ['planned_departure']\n",
    "X = delays[factors]\n",
    "X['planned_departure'] = X['planned_departure'] / 2400\n",
    "carrier_encode = pd.get_dummies(delays.carrier, drop_first = True)\n",
    "X[carrier_encode.columns] = carrier_encode\n",
    "weekday_encode = pd.get_dummies(delays.day_of_week)\n",
    "weekday_encode.columns = ['monday', 'tuesday', 'wednesday', 'thursday', 'friday', 'saturday', 'sunday']\n",
    "X[weekday_encode.columns] = weekday_encode\n",
    "state_encode = pd.get_dummies(delays.origin_state)\n",
    "X[state_encode.columns] = state_encode\n",
    "y = delays['delay15']"
   ]
  },
  {
   "cell_type": "code",
   "execution_count": 6,
   "id": "93f95a74",
   "metadata": {},
   "outputs": [
    {
     "data": {
      "text/plain": [
       "0.2881398358478357"
      ]
     },
     "execution_count": 6,
     "metadata": {},
     "output_type": "execute_result"
    }
   ],
   "source": [
    "prop_delay = np.sum(y == 1) / y.size\n",
    "prop_delay"
   ]
  },
  {
   "cell_type": "code",
   "execution_count": 7,
   "id": "56928202",
   "metadata": {},
   "outputs": [],
   "source": [
    "# Split data into train, valid, and test sets\n",
    "X_train, X_tmp, y_train, y_tmp = train_test_split(X, y, test_size=.2, random_state=0, stratify=y)\n",
    "X_valid, X_test, y_valid, y_test = train_test_split(X_tmp, y_tmp, test_size=.5, random_state=0, stratify=y_tmp)"
   ]
  },
  {
   "cell_type": "markdown",
   "id": "18e59996",
   "metadata": {},
   "source": [
    "## Decision Trees"
   ]
  },
  {
   "cell_type": "code",
   "execution_count": 8,
   "id": "13cc970b",
   "metadata": {},
   "outputs": [],
   "source": [
    "from sklearn import datasets\n",
    "from sklearn.tree import DecisionTreeClassifier\n",
    "from sklearn.ensemble import BaggingClassifier, RandomForestClassifier, GradientBoostingClassifier\n",
    "from sklearn.model_selection import (train_test_split, cross_val_score, \n",
    "                                     GridSearchCV, RandomizedSearchCV)"
   ]
  },
  {
   "cell_type": "markdown",
   "id": "e4a3db36",
   "metadata": {},
   "source": [
    "## Random  Forest"
   ]
  },
  {
   "cell_type": "code",
   "execution_count": 9,
   "id": "fe6ece97",
   "metadata": {},
   "outputs": [
    {
     "name": "stdout",
     "output_type": "stream",
     "text": [
      "RandomForest validation_score=0.716\n"
     ]
    }
   ],
   "source": [
    "parameters = {'n_estimators': [100], 'criterion': ['entropy', 'gini'], 'max_depth': [4, 8], \n",
    "              'n_jobs': [-1], 'random_state': [0]}\n",
    "rf = RandomForestClassifier()\n",
    "clf = GridSearchCV(rf, parameters)\n",
    "clf.fit(X_train, y_train)\n",
    "validation_score = clf.score(X_valid, y_valid)\n",
    "print(f'RandomForest validation_score={validation_score:.3}')"
   ]
  },
  {
   "cell_type": "markdown",
   "id": "ed6e7a35",
   "metadata": {},
   "source": [
    "## Gradient Boosting"
   ]
  },
  {
   "cell_type": "code",
   "execution_count": 10,
   "id": "11c912fb",
   "metadata": {},
   "outputs": [
    {
     "name": "stdout",
     "output_type": "stream",
     "text": [
      "GradientBoosting validation_score=0.733\n"
     ]
    }
   ],
   "source": [
    "clf = GradientBoostingClassifier(n_estimators = 100, learning_rate = 0.1, max_depth = 2, random_state = 0)\n",
    "clf.fit(X_train, y_train)\n",
    "validation_score = clf.score(X_valid, y_valid)\n",
    "print(f'GradientBoosting validation_score={validation_score:.3}')"
   ]
  },
  {
   "cell_type": "markdown",
   "id": "4789568b",
   "metadata": {},
   "source": [
    "## Logistic Regression"
   ]
  },
  {
   "cell_type": "code",
   "execution_count": 11,
   "id": "608651d2",
   "metadata": {},
   "outputs": [],
   "source": [
    "from sklearn import linear_model"
   ]
  },
  {
   "cell_type": "code",
   "execution_count": 12,
   "id": "fcbf5bbd",
   "metadata": {},
   "outputs": [
    {
     "name": "stdout",
     "output_type": "stream",
     "text": [
      "LogisticRegression validation_score=0.733\n"
     ]
    }
   ],
   "source": [
    "parameters = {'C':[0.01, 1, 100], 'random_state':[0]}\n",
    "logr = linear_model.LogisticRegression()\n",
    "clf = GridSearchCV(logr, parameters)\n",
    "clf.fit(X_train, y_train)\n",
    "validation_score = clf.score(X_valid, y_valid)\n",
    "print(f'LogisticRegression validation_score={validation_score:.3}')"
   ]
  },
  {
   "cell_type": "markdown",
   "id": "17f13aa7",
   "metadata": {},
   "source": [
    "# Regression"
   ]
  },
  {
   "cell_type": "code",
   "execution_count": 13,
   "id": "8066d108",
   "metadata": {},
   "outputs": [],
   "source": [
    "y = delays['delay_pos']"
   ]
  },
  {
   "cell_type": "code",
   "execution_count": 14,
   "id": "d3caabd6",
   "metadata": {},
   "outputs": [],
   "source": [
    "X_train, X_tmp, y_train, y_tmp = train_test_split(X, y, test_size=.2, random_state=0)\n",
    "X_valid, X_test, y_valid, y_test = train_test_split(X_tmp, y_tmp, test_size=.5, random_state=0)"
   ]
  },
  {
   "cell_type": "markdown",
   "id": "b68b2711",
   "metadata": {},
   "source": [
    "## Linear Regression"
   ]
  },
  {
   "cell_type": "code",
   "execution_count": 15,
   "id": "ba68f1f8",
   "metadata": {},
   "outputs": [
    {
     "name": "stdout",
     "output_type": "stream",
     "text": [
      "LinearRegression MSE_valid=4.99e+03\n"
     ]
    }
   ],
   "source": [
    "linr = linear_model.LinearRegression()\n",
    "linr.fit(X_train, y_train)\n",
    "validation_score = linr.score(X_valid, y_valid)\n",
    "MSE_valid = (1/y_test.size)  * np.sum((y_test - linr.predict(X_test))**2)\n",
    "print(f'LinearRegression MSE_valid={MSE_valid:.3}')"
   ]
  },
  {
   "cell_type": "code",
   "execution_count": 16,
   "id": "c8aed1f7",
   "metadata": {},
   "outputs": [
    {
     "data": {
      "text/plain": [
       "0.040357128982787094"
      ]
     },
     "execution_count": 16,
     "metadata": {},
     "output_type": "execute_result"
    }
   ],
   "source": [
    "validation_score"
   ]
  }
 ],
 "metadata": {
  "kernelspec": {
   "display_name": "Python 3 (ipykernel)",
   "language": "python",
   "name": "python3"
  },
  "language_info": {
   "codemirror_mode": {
    "name": "ipython",
    "version": 3
   },
   "file_extension": ".py",
   "mimetype": "text/x-python",
   "name": "python",
   "nbconvert_exporter": "python",
   "pygments_lexer": "ipython3",
   "version": "3.11.4"
  }
 },
 "nbformat": 4,
 "nbformat_minor": 5
}
